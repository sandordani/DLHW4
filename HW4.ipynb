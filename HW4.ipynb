{
 "cells": [
  {
   "cell_type": "code",
   "execution_count": 1,
   "metadata": {},
   "outputs": [],
   "source": [
    "from keras.applications.inception_v3 import InceptionV3, preprocess_input\n",
    "from keras.preprocessing.image import ImageDataGenerator\n",
    "from keras.models import Model\n",
    "from keras.preprocessing import image\n",
    "from keras.layers import Dense, GlobalAveragePooling2D\n",
    "from keras import backend as K \n",
    "from keras.optimizers import SGD\n",
    "from keras.callbacks import CSVLogger\n",
    "import numpy as np\n",
    "\n",
    "#loading inceptionv3\n",
    "base_model = InceptionV3(weights='imagenet', include_top=False)"
   ]
  },
  {
   "cell_type": "code",
   "execution_count": 2,
   "metadata": {},
   "outputs": [],
   "source": [
    "#creating model\n",
    "x = base_model.output\n",
    "\n",
    "#adding top layers\n",
    "x = GlobalAveragePooling2D()(x)\n",
    "x = Dense(1024,activation = 'relu')(x)\n",
    "pred = Dense(3,activation = 'softmax')(x)\n",
    "\n",
    "#creating logger\n",
    "csv_log = CSVLogger('log.csv', separator=',', append=True)\n",
    "\n",
    "model = Model(base_model.input, pred)"
   ]
  },
  {
   "cell_type": "code",
   "execution_count": 3,
   "metadata": {},
   "outputs": [],
   "source": [
    "#freezing layers of base_model: only fully connected layers are trained\n",
    "for layer in base_model.layers:\n",
    "    layer.trainable = False"
   ]
  },
  {
   "cell_type": "code",
   "execution_count": 4,
   "metadata": {},
   "outputs": [
    {
     "name": "stdout",
     "output_type": "stream",
     "text": [
      "Found 1200 images belonging to 3 classes.\n",
      "Found 300 images belonging to 3 classes.\n",
      "Found 300 images belonging to 3 classes.\n"
     ]
    }
   ],
   "source": [
    "#creating datagenerators\n",
    "train_datagen = ImageDataGenerator(preprocessing_function=preprocess_input)\n",
    "valid_datagen = ImageDataGenerator(preprocessing_function=preprocess_input)\n",
    "test_datagen = ImageDataGenerator(preprocessing_function=preprocess_input)\n",
    "\n",
    "train_generator = train_datagen.flow_from_directory('train_00/train', target_size=(299,299), \\\n",
    "                                                    batch_size=32, class_mode='categorical')\n",
    "valid_generator = valid_datagen.flow_from_directory('train_00/valid', target_size=(299,299), \\\n",
    "                                                    batch_size=32, class_mode='categorical')\n",
    "test_generator = valid_datagen.flow_from_directory('train_00/test', target_size=(299,299), \\\n",
    "                                                    batch_size=32, class_mode='categorical')"
   ]
  },
  {
   "cell_type": "code",
   "execution_count": 5,
   "metadata": {},
   "outputs": [],
   "source": [
    "model.compile(loss='categorical_crossentropy', optimizer='adam', metrics=['accuracy'])"
   ]
  },
  {
   "cell_type": "code",
   "execution_count": 6,
   "metadata": {},
   "outputs": [
    {
     "name": "stdout",
     "output_type": "stream",
     "text": [
      "Epoch 1/10\n",
      "38/38 [==============================] - 24s 626ms/step - loss: 1.2547 - accuracy: 0.5142 - val_loss: 0.5071 - val_accuracy: 0.6733\n",
      "Epoch 2/10\n",
      "38/38 [==============================] - 15s 396ms/step - loss: 0.6727 - accuracy: 0.7325 - val_loss: 1.1199 - val_accuracy: 0.6400\n",
      "Epoch 3/10\n",
      "38/38 [==============================] - 17s 460ms/step - loss: 0.5900 - accuracy: 0.7558 - val_loss: 0.5884 - val_accuracy: 0.7033\n",
      "Epoch 4/10\n",
      "38/38 [==============================] - 17s 457ms/step - loss: 0.5457 - accuracy: 0.7817 - val_loss: 1.3260 - val_accuracy: 0.7233\n",
      "Epoch 5/10\n",
      "38/38 [==============================] - 17s 459ms/step - loss: 0.4946 - accuracy: 0.7908 - val_loss: 0.5097 - val_accuracy: 0.6700\n",
      "Epoch 6/10\n",
      "38/38 [==============================] - 18s 463ms/step - loss: 0.5030 - accuracy: 0.7892 - val_loss: 0.8937 - val_accuracy: 0.6633\n",
      "Epoch 7/10\n",
      "38/38 [==============================] - 18s 466ms/step - loss: 0.5037 - accuracy: 0.8025 - val_loss: 0.5106 - val_accuracy: 0.7233\n",
      "Epoch 8/10\n",
      "38/38 [==============================] - 17s 459ms/step - loss: 0.4792 - accuracy: 0.7992 - val_loss: 0.3981 - val_accuracy: 0.6433\n",
      "Epoch 9/10\n",
      "38/38 [==============================] - 18s 476ms/step - loss: 0.5062 - accuracy: 0.7900 - val_loss: 0.5279 - val_accuracy: 0.6733\n",
      "Epoch 10/10\n",
      "38/38 [==============================] - 17s 458ms/step - loss: 0.4807 - accuracy: 0.8000 - val_loss: 0.7671 - val_accuracy: 0.6100\n"
     ]
    },
    {
     "data": {
      "text/plain": [
       "<keras.callbacks.callbacks.History at 0x22575abce80>"
      ]
     },
     "execution_count": 6,
     "metadata": {},
     "output_type": "execute_result"
    }
   ],
   "source": [
    "model.fit_generator(train_generator, validation_data=valid_generator, epochs=10, steps_per_epoch=int(1200/32)+1, validation_steps=int(300/32)+1, callbacks = [csv_log])"
   ]
  },
  {
   "cell_type": "code",
   "execution_count": 7,
   "metadata": {},
   "outputs": [],
   "source": [
    "#unfreezing top convolutional layers\n",
    "for layer in model.layers[172:]:\n",
    "       layer.trainable = True"
   ]
  },
  {
   "cell_type": "code",
   "execution_count": 8,
   "metadata": {},
   "outputs": [],
   "source": [
    "model.compile(optimizer=SGD(lr=0.0001, momentum=0.9), metrics=['accuracy'], loss='categorical_crossentropy')"
   ]
  },
  {
   "cell_type": "code",
   "execution_count": 9,
   "metadata": {},
   "outputs": [
    {
     "name": "stdout",
     "output_type": "stream",
     "text": [
      "Epoch 1/3\n",
      "38/38 [==============================] - 31s 823ms/step - loss: 0.4151 - accuracy: 0.8317 - val_loss: 0.6762 - val_accuracy: 0.6667\n",
      "Epoch 2/3\n",
      "38/38 [==============================] - 18s 484ms/step - loss: 0.3411 - accuracy: 0.8633 - val_loss: 0.9369 - val_accuracy: 0.7033\n",
      "Epoch 3/3\n",
      "38/38 [==============================] - 18s 484ms/step - loss: 0.3308 - accuracy: 0.8608 - val_loss: 0.8672 - val_accuracy: 0.7033\n"
     ]
    },
    {
     "data": {
      "text/plain": [
       "<keras.callbacks.callbacks.History at 0x2262f9a4f60>"
      ]
     },
     "execution_count": 9,
     "metadata": {},
     "output_type": "execute_result"
    }
   ],
   "source": [
    "model.fit_generator(train_generator,steps_per_epoch=int(1200/32)+1,validation_data=valid_generator,validation_steps=int(300/32)+1,epochs=3, callbacks = [csv_log])"
   ]
  },
  {
   "cell_type": "code",
   "execution_count": 10,
   "metadata": {},
   "outputs": [
    {
     "data": {
      "text/plain": [
       "[0.8467339873313904, 0.6933333277702332]"
      ]
     },
     "execution_count": 10,
     "metadata": {},
     "output_type": "execute_result"
    }
   ],
   "source": [
    "model.evaluate_generator(test_generator, steps=int(300/32)+1)"
   ]
  }
 ],
 "metadata": {
  "kernelspec": {
   "display_name": "Python 3",
   "language": "python",
   "name": "python3"
  },
  "language_info": {
   "codemirror_mode": {
    "name": "ipython",
    "version": 3
   },
   "file_extension": ".py",
   "mimetype": "text/x-python",
   "name": "python",
   "nbconvert_exporter": "python",
   "pygments_lexer": "ipython3",
   "version": "3.7.3"
  }
 },
 "nbformat": 4,
 "nbformat_minor": 2
}
